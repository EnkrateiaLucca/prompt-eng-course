{
 "cells": [
  {
   "cell_type": "markdown",
   "metadata": {},
   "source": [
    "use this: https://github.com/microsoft/generative-ai-fobr-beginners/tree/main/15-rag-and-vector-databases"
   ]
  }
 ],
 "metadata": {
  "language_info": {
   "name": "python"
  }
 },
 "nbformat": 4,
 "nbformat_minor": 2
}
