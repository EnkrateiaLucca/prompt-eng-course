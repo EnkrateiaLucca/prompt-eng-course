{
 "cells": [
  {
   "cell_type": "code",
   "execution_count": null,
   "metadata": {},
   "outputs": [],
   "source": [
    "# Make sure to set your OpenAI API key in the .env file\n",
    "import openai\n",
    "import os\n",
    "from dotenv import load_dotenv\n",
    "\n",
    "load_dotenv()\n",
    "openai.api_key = os.getenv(\"OPENAI_API_KEY\")"
   ]
  },
  {
   "cell_type": "markdown",
   "metadata": {},
   "source": [
    "# Notebook Outline: Code Generation for a Simple Calculator\n",
    "\n",
    "## 1. Introduction\n",
    "\n",
    "## The Problem\n",
    "This [article](https://www.twosigma.com/articles/a-guide-to-large-language-model-abstractions/), makes a very interesting point about programming with LLMs citing that one of the challenges faced relate to LLMs having limitations like imperfect memory, adherence to logical structures, and sensitivity to prompting styles. To solve that, we've seen the development of over a dozen frameworks that adopt different philosophies for LLM abstraction.\n",
    "\n",
    "### Objective\n",
    "This lesson introduces the concept of using Large Language Models (LLMs) like GPT-4 to generate functional Python code for a basic calculator. We will explore the principles of prompt engineering and its impact on AI-driven code generation.\n",
    "\n",
    "### Importance of Prompt Engineering\n",
    "Prompt engineering is crucial because the clarity and structure of prompts significantly affect how well LLMs perform in code generation tasks. A well-crafted prompt leads to more accurate and functional code outputs.\n",
    "\n",
    "# 2. Defining Task\n",
    "Defining the Problem\n",
    "We need to create a Python function named calculate that accepts two integers and a string representing an operation (add, subtract, multiply, divide) and returns the result of the operation.\n",
    "\n",
    "Example Inputs and Outputs\n",
    "```python\n",
    "calculate(5, 3, '+') should return 8\n",
    "calculate(5, 3, '-') should return 2\n",
    "calculate(5, 3, '*') should return 15\n",
    "calculate(5, 3, '/') should return 1.67\n",
    "```"
   ]
  },
  {
   "cell_type": "markdown",
   "metadata": {},
   "source": [
    "# 2. Evaluation Metric: Test Cases\n",
    "\n",
    "Test Case Development\n",
    "We will develop a series of test cases to ensure our function covers typical use cases.\n",
    "\n",
    "Automated Testing Script"
   ]
  },
  {
   "cell_type": "code",
   "execution_count": 11,
   "metadata": {},
   "outputs": [],
   "source": [
    "import unittest\n",
    "\n",
    "class TestCalculator(unittest.TestCase):\n",
    "    def test_operations(self):\n",
    "        self.assertEqual(calculate(5, 3, '+'), 8)\n",
    "        self.assertEqual(calculate(5, 3, '-'), 2)\n",
    "        self.assertEqual(calculate(5, 3, '*'), 15)\n",
    "        self.assertEqual(calculate(6, 3, '/'), 2)"
   ]
  },
  {
   "cell_type": "markdown",
   "metadata": {},
   "source": [
    "# 3. Initial Prompt\n",
    "\n",
    "Crafting the Prompt\n",
    "Here's how you might write a prompt for GPT-4 to generate the calculate function:"
   ]
  },
  {
   "cell_type": "code",
   "execution_count": 1,
   "metadata": {},
   "outputs": [],
   "source": [
    "sys_msg_code_generation = \"\"\"You are a Python code generation engine. You will be fed prompts with code descriptions, or \n",
    "half-finished code and generate the appropriate Python code for the problem/task described.\n",
    "\"\"\"\n",
    "\n",
    "prompt_generate_code = '''\\\n",
    "Generate this entire Python function:\n",
    "def calculate(a: int, b: int, operation: str) -> float:\n",
    "    <# One line doc string for a Python function to perform basic arithmetic operations>\n",
    "    < whitespace >\n",
    "    < code >\n",
    "    < return statement >\n",
    "'''"
   ]
  },
  {
   "cell_type": "markdown",
   "metadata": {},
   "source": [
    "# Experiment"
   ]
  },
  {
   "cell_type": "code",
   "execution_count": 2,
   "metadata": {},
   "outputs": [
    {
     "data": {
      "text/markdown": [
       "```python\n",
       "def calculate(a: int, b: int, operation: str) -> float:\n",
       "    \"\"\"Perform basic arithmetic operations (+, -, *, /) based on the operation argument.\"\"\"\n",
       "    \n",
       "    if operation == \"+\":\n",
       "        return a + b\n",
       "    elif operation == \"-\":\n",
       "        return a - b\n",
       "    elif operation == \"*\":\n",
       "        return a * b\n",
       "    elif operation == \"/\":\n",
       "        if b != 0:\n",
       "            return a / b\n",
       "        else:\n",
       "            raise ValueError(\"Division by zero is not allowed.\")\n",
       "    else:\n",
       "        raise ValueError(\"Unsupported operation. Please use +, -, * or /.\")\n",
       "```"
      ],
      "text/plain": [
       "<IPython.core.display.Markdown object>"
      ]
     },
     "execution_count": 2,
     "metadata": {},
     "output_type": "execute_result"
    }
   ],
   "source": [
    "from IPython.display import Markdown\n",
    "from openai import OpenAI\n",
    "client = OpenAI()\n",
    "\n",
    "def get_response(prompt: str):\n",
    "    response = client.chat.completions.create(\n",
    "        model=\"gpt-4-turbo\",\n",
    "        messages=[{\"role\": \"system\", \"content\": sys_msg_code_generation},\n",
    "                  {\"role\": \"user\", \"content\": prompt}]\n",
    "    )\n",
    "    \n",
    "    return response.choices[0].message.content\n",
    "python_code = get_response(prompt_generate_code)\n",
    "Markdown(python_code)"
   ]
  },
  {
   "cell_type": "markdown",
   "metadata": {},
   "source": [
    "Now, let's extract the markdown syntax and execute the Python code. Here, the approach used is just for demonstration purposes, its importapnt to remember the danger of running untrusted code!"
   ]
  },
  {
   "cell_type": "code",
   "execution_count": 3,
   "metadata": {},
   "outputs": [
    {
     "data": {
      "text/plain": [
       "'def calculate(a: int, b: int, operation: str) -> float:\\n    \"\"\"Perform basic arithmetic operations (+, -, *, /) based on the operation argument.\"\"\"\\n    \\n    if operation == \"+\":\\n        return a + b\\n    elif operation == \"-\":\\n        return a - b\\n    elif operation == \"*\":\\n        return a * b\\n    elif operation == \"/\":\\n        if b != 0:\\n            return a / b\\n        else:\\n            raise ValueError(\"Division by zero is not allowed.\")\\n    else:\\n        raise ValueError(\"Unsupported operation. Please use +, -, * or /.\")'"
      ]
     },
     "execution_count": 3,
     "metadata": {},
     "output_type": "execute_result"
    }
   ],
   "source": [
    "import re\n",
    "\n",
    "def extract_python_code(markdown_text):\n",
    "    # Regular expression to capture Python code inside ```python ... ```\n",
    "    pattern = re.compile(r'```python(.*?)```', re.DOTALL)\n",
    "    matches = pattern.findall(markdown_text)\n",
    "    \n",
    "    # Join all the matches with a newline separator (if there are multiple Python code blocks)\n",
    "    python_code = \"\\n\\n\".join(match.strip() for match in matches)\n",
    "    \n",
    "    return python_code\n",
    "\n",
    "python_code = extract_python_code(python_code)\n",
    "python_code"
   ]
  },
  {
   "cell_type": "code",
   "execution_count": 4,
   "metadata": {},
   "outputs": [],
   "source": [
    "exec(python_code)"
   ]
  },
  {
   "cell_type": "code",
   "execution_count": 5,
   "metadata": {},
   "outputs": [
    {
     "name": "stdout",
     "output_type": "stream",
     "text": [
      "15\n"
     ]
    }
   ],
   "source": [
    "print(calculate(5, 10, '+'))"
   ]
  },
  {
   "cell_type": "code",
   "execution_count": 12,
   "metadata": {},
   "outputs": [
    {
     "name": "stderr",
     "output_type": "stream",
     "text": [
      ".\n",
      "----------------------------------------------------------------------\n",
      "Ran 1 test in 0.001s\n",
      "\n",
      "OK\n"
     ]
    },
    {
     "data": {
      "text/plain": [
       "<unittest.main.TestProgram at 0x1183878b0>"
      ]
     },
     "execution_count": 12,
     "metadata": {},
     "output_type": "execute_result"
    }
   ],
   "source": [
    "import unittest\n",
    "unittest.main(argv=[''], exit=False)"
   ]
  },
  {
   "cell_type": "code",
   "execution_count": null,
   "metadata": {},
   "outputs": [],
   "source": []
  }
 ],
 "metadata": {
  "kernelspec": {
   "display_name": "oreilly-prompt-eng",
   "language": "python",
   "name": "oreilly-prompt-eng"
  },
  "language_info": {
   "codemirror_mode": {
    "name": "ipython",
    "version": 3
   },
   "file_extension": ".py",
   "mimetype": "text/x-python",
   "name": "python",
   "nbconvert_exporter": "python",
   "pygments_lexer": "ipython3",
   "version": "3.10.14"
  }
 },
 "nbformat": 4,
 "nbformat_minor": 2
}
