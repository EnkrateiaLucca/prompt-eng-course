{
 "cells": [
  {
   "cell_type": "markdown",
   "metadata": {},
   "source": [
    "# Prompt Engineering Guide"
   ]
  },
  {
   "cell_type": "markdown",
   "metadata": {},
   "source": [
    "The basic goal of prompt engineering is designing appropriate inputs for prompting methods."
   ]
  },
  {
   "cell_type": "markdown",
   "metadata": {},
   "source": [
    "- Self-Consistency\n",
    "\n",
    "- Knowledge Generation"
   ]
  },
  {
   "cell_type": "markdown",
   "metadata": {},
   "source": [
    "1. Prompt a language model using chain-of-thought (CoT) prompting\n",
    "2. Replace the “greedy decode” in CoT prompting by sampling from the language model’s decoder to generate a diverse set of reasoning paths;\n",
    "3. Marginalize out the reasoning paths and aggregate by choosing the most consistent answer in the final answer set."
   ]
  },
  {
   "cell_type": "code",
   "execution_count": null,
   "metadata": {},
   "outputs": [],
   "source": [
    "# Make sure to set your OpenAI API key in the .env file\n",
    "import openai\n",
    "import os\n",
    "from dotenv import load_dotenv\n",
    "\n",
    "load_dotenv()\n",
    "openai.api_key = os.getenv(\"OPENAI_API_KEY\")"
   ]
  },
  {
   "cell_type": "code",
   "execution_count": 9,
   "metadata": {},
   "outputs": [],
   "source": [
    "from openai import OpenAI\n",
    "client = OpenAI()\n",
    "\n",
    "def get_response(prompt_question, num_of_responses=10):\n",
    "    response = client.chat.completions.create(\n",
    "        model=\"gpt-3.5-turbo\",\n",
    "        messages=[{\"role\": \"system\", \"content\": \"You are a helpful research and programming assistant\"},\n",
    "                  {\"role\": \"user\", \"content\": prompt_question}],\n",
    "        n=num_of_responses,\n",
    "    )\n",
    "    \n",
    "    return response\n",
    "\n",
    "self_consistency_prompt = \"\"\"\n",
    "Q: If a library initially has 120 books and it acquires 30 more books, how many books are there in total?\n",
    "A: The library starts with 120 books. It then receives an additional 30 books. Now, there are 120 + 30 = 150 books. The answer is 150.\n",
    "\n",
    "Q: Alex has a small garden where he grows tomatoes. Each day, his plants yield 20 tomatoes. He uses 8 of them to make salads for his family’s dinner and gives 5 to his neighbor. How many tomatoes does he have left to sell or store each day?\n",
    "\"\"\"\n",
    "\n",
    "responses = get_response(self_consistency_prompt, num_of_responses=10)"
   ]
  },
  {
   "cell_type": "code",
   "execution_count": 10,
   "metadata": {},
   "outputs": [
    {
     "name": "stdout",
     "output_type": "stream",
     "text": [
      "To find out how many tomatoes Alex has left to sell or store each day, we can subtract the tomatoes he uses for making salads and gives to his neighbor from the total yield of his plants.\n",
      "\n",
      "Total yield of tomatoes per day: 20 tomatoes\n",
      "Tomatoes used for making salads: 8 tomatoes\n",
      "Tomatoes given to the neighbor: 5 tomatoes\n",
      "\n",
      "Tomatoes left to sell or store each day: Total yield - Tomatoes used for salads - Tomatoes given to neighbor\n",
      "Tomatoes left to sell or store each day: 20 - 8 - 5\n",
      "Tomatoes left to sell or store each day: 7 tomatoes\n",
      "\n",
      "Therefore, Alex has 7 tomatoes left to sell or store each day.\n",
      "******\n",
      "To calculate how many tomatoes Alex has left after using some for salads and giving some to his neighbor, we need to subtract the total tomatoes used from the daily yield.\n",
      "\n",
      "Daily yield = 20 tomatoes\n",
      "Tomatoes used for salads = 8 tomatoes\n",
      "Tomatoes given to neighbor = 5 tomatoes\n",
      "\n",
      "Total tomatoes used = Tomatoes for salads + Tomatoes for neighbor\n",
      "Total tomatoes used = 8 tomatoes + 5 tomatoes = 13 tomatoes\n",
      "\n",
      "Tomatoes remaining = Daily yield - Total tomatoes used\n",
      "Tomatoes remaining = 20 tomatoes - 13 tomatoes = 7 tomatoes\n",
      "\n",
      "Therefore, Alex has 7 tomatoes left to sell or store each day.\n",
      "******\n",
      "To find out how many tomatoes Alex has left after making salads for his family and giving some to his neighbor, we need to subtract the total tomatoes used from the total tomatoes yielded each day.\n",
      "\n",
      "Total tomatoes yielded each day: 20\n",
      "Tomatoes used to make salads: 8\n",
      "Tomatoes given to the neighbor: 5\n",
      "\n",
      "Tomatoes left to sell or store each day:\n",
      "20 - 8 - 5 = 7\n",
      "\n",
      "Therefore, Alex has 7 tomatoes left to sell or store each day after making salads and giving some to his neighbor.\n",
      "******\n",
      "To find out how many tomatoes Alex has left to sell or store each day, we first need to calculate the total number of tomatoes he harvests each day after making salads for his family and giving some to his neighbor.\n",
      "\n",
      "- Total tomatoes harvested each day: 20\n",
      "- Tomatoes used for salads: 8\n",
      "- Tomatoes given to neighbor: 5\n",
      "\n",
      "To find out how many tomatoes Alex has left, we subtract the tomatoes used for salads and given to the neighbor from the total harvested:\n",
      "20 (total) - 8 (salad) - 5 (neighbor) = 7\n",
      "\n",
      "Therefore, Alex has 7 tomatoes left to sell or store each day.\n",
      "******\n",
      "To find out how many tomatoes Alex has left to sell or store each day, we first need to calculate the total number of tomatoes from his plants:\n",
      "\n",
      "Total tomatoes from plants = Number of tomatoes yielded per day = 20 tomatoes\n",
      "\n",
      "Next, we subtract the tomatoes that Alex uses to make salads and the ones he gives to his neighbor from the total yield:\n",
      "\n",
      "Total tomatoes he uses = Tomatoes for salads + Tomatoes for neighbor = 8 tomatoes + 5 tomatoes = 13 tomatoes\n",
      "\n",
      "Therefore, the number of tomatoes Alex has left to sell or store each day is:\n",
      "\n",
      "Tomatoes left = Total tomatoes from plants - Total tomatoes he uses\n",
      "Tomatoes left = 20 tomatoes - 13 tomatoes\n",
      "Tomatoes left = 7 tomatoes\n",
      "\n",
      "So, Alex has 7 tomatoes left to sell or store each day.\n",
      "******\n",
      "To find out how many tomatoes Alex has left after making salads and giving some to his neighbor, we need to subtract the tomatoes used for salads and given to the neighbor from the total yield.\n",
      "\n",
      "Tomatoes yielded each day = 20\n",
      "Tomatoes used for salads = 8\n",
      "Tomatoes given to the neighbor = 5\n",
      "\n",
      "Tomatoes left after making salads and giving to the neighbor = Tomatoes yielded - Tomatoes used for salads - Tomatoes given to the neighbor\n",
      "= 20 - 8 - 5\n",
      "= 7\n",
      "\n",
      "Alex has 7 tomatoes left each day to sell or store.\n",
      "******\n",
      "To determine how many tomatoes Alex has left to sell or store each day, we need to calculate the total number of tomatoes he yields each day minus the number he uses for salads and gives to his neighbor.\n",
      "\n",
      "Alex's plants yield 20 tomatoes each day. He uses 8 tomatoes for salads and gives 5 to his neighbor. \n",
      "\n",
      "Therefore, the number of tomatoes he has left to sell or store each day is:\n",
      "20 (total yield) - 8 (used for salads) - 5 (given to neighbor) = 7 tomatoes\n",
      "\n",
      "So, Alex has 7 tomatoes left to sell or store each day.\n",
      "******\n",
      "Alex's plants yield 20 tomatoes each day. He uses 8 for salads and gives 5 to his neighbor. To find out how many tomatoes he has left, we can subtract the ones he used and gave away from the total yield:\n",
      "\n",
      "Total yield per day = 20 tomatoes\n",
      "Tomatoes for salads = 8 tomatoes\n",
      "Tomatoes for neighbor = 5 tomatoes\n",
      "\n",
      "Tomatoes left = Total yield - Tomatoes for salads - Tomatoes for neighbor\n",
      "Tomatoes left = 20 - 8 - 5\n",
      "Tomatoes left = 7\n",
      "\n",
      "Therefore, Alex has 7 tomatoes left to sell or store each day.\n",
      "******\n",
      "To calculate how many tomatoes Alex has left to sell or store each day, we first need to determine the total number of tomatoes that he produces daily.\n",
      "\n",
      "Alex's plants yield 20 tomatoes per day, and he uses 8 for salads and gives 5 to his neighbor. Therefore, the total tomatoes used daily are 8 + 5 = 13.\n",
      "\n",
      "To find out how many tomatoes Alex has left to sell or store, we subtract the tomatoes used from the total yield:\n",
      "20 (total yield) - 13 (used) = 7 tomatoes\n",
      "\n",
      "Alex has 7 tomatoes left to sell or store each day.\n",
      "******\n",
      "To find out how many tomatoes Alex has left after making salads for his family and giving some to his neighbor, we first calculate the total number of tomatoes his plants yield each day (20). Then, we subtract the tomatoes used for salads (8) and given to his neighbor (5).\n",
      "\n",
      "Total tomatoes: 20\n",
      "Tomatoes used for salads: 8\n",
      "Tomatoes given to neighbor: 5\n",
      "\n",
      "Tomatoes left each day = Total tomatoes - Tomatoes used for salads - Tomatoes given to neighbor\n",
      "Tomatoes left each day = 20 - 8 - 5\n",
      "Tomatoes left each day = 7\n",
      "\n",
      "Therefore, Alex has 7 tomatoes left to sell or store each day.\n",
      "******\n"
     ]
    }
   ],
   "source": [
    "for n in responses.choices:\n",
    "    print(n.message.content)\n",
    "    print(\"******\")"
   ]
  },
  {
   "cell_type": "markdown",
   "metadata": {},
   "source": [
    "# Knowledge Generation\n",
    "\n",
    "1. Knowledge generation\n",
    "2. Knowledge integration"
   ]
  },
  {
   "cell_type": "code",
   "execution_count": 11,
   "metadata": {},
   "outputs": [
    {
     "name": "stdout",
     "output_type": "stream",
     "text": [
      "Generated Knowledge: 1. Leaves change color in the autumn due to the breakdown of chlorophyll, the green pigment responsible for photosynthesis. This breakdown reveals other pigments in the leaves, such as carotenoids (yellow and orange) and anthocyanins (red and purple).\n",
      "\n",
      "2. Environmental factors such as temperature and sunlight play a role in triggering the chemical processes that cause leaves to change color. As the days become shorter and temperatures drop in the autumn, trees prepare for dormancy by shedding their leaves.\n",
      "\n",
      "3. Different tree species exhibit a variety of colors in the autumn based on the specific pigments present in their leaves. For example, maple trees often display vibrant reds and oranges, while beech trees may have more subdued yellows and browns.\n",
      "\n",
      "4. The timing and intensity of autumn leaf color can vary from year to year depending on factors such as weather conditions, soil moisture levels, and the overall health of the trees.\n",
      "\n",
      "5. The colorful display of autumn leaves serves an ecological purpose by attracting pollinators and seed-dispersing animals to the trees, aiding in reproduction and dispersal of seeds before winter arrives.\n",
      "\n",
      "6. Sightseers and tourists often flock to areas known for their autumn foliage, known as \"leaf peeping\" in regions with particularly vibrant displays of fall colors.\n",
      "Enhanced Answer: Leaves change color in autumn due to the breakdown of chlorophyll, the green pigment responsible for photosynthesis. As the days become shorter and temperatures drop, trees prepare for dormancy by shedding their leaves. This reveals other pigments in the leaves, such as carotenoids (yellow and orange) and anthocyanins (red and purple), resulting in the vibrant colors we see in the fall. Environmental factors like temperature and sunlight trigger these chemical processes, and different tree species exhibit various colors based on the specific pigments present in their leaves. The timing and intensity of autumn leaf color can vary each year depending on weather conditions and tree health. The colorful display of autumn leaves attracts pollinators and seed-dispersing animals, aiding in reproduction and seed dispersal before winter. This phenomenon also draws tourists to areas known for their vibrant fall foliage, a practice known as \"leaf peeping.\"\n"
     ]
    }
   ],
   "source": [
    "def generate_knowledge(question):\n",
    "    # Generate background knowledge-based facts by prompting the model\n",
    "    knowledge_response = client.chat.completions.create(\n",
    "        model=\"gpt-3.5-turbo-0125\",\n",
    "        messages=[\n",
    "            {\"role\": \"system\", \"content\": \"You are an AI trained to generate facts about background knowledge.\"},\n",
    "            {\"role\": \"user\", \"content\": f\"Generate facts about the background knowledge for this question: {question}\"}\n",
    "        ]\n",
    "    )\n",
    "    knowledge = knowledge_response.choices[0].message.content\n",
    "    \n",
    "    # Use the generated knowledge to enhance the answer to the original question\n",
    "    enhanced_answer_response = client.chat.completions.create(\n",
    "        model=\"gpt-3.5-turbo-0125\",\n",
    "        messages=[\n",
    "            {\"role\": \"system\", \"content\": \"You are an AI trained to answer questions using provided knowledge.\"},\n",
    "            {\"role\": \"user\", \"content\": f\"Given the knowledge: {knowledge}, answer the question: {question}\"}\n",
    "        ]\n",
    "    )\n",
    "    enhanced_answer = enhanced_answer_response.choices[0].message.content\n",
    "    \n",
    "    return knowledge, enhanced_answer\n",
    "\n",
    "# Example usage\n",
    "question = \"Why do leaves change color in autumn?\"\n",
    "knowledge, answer = generate_knowledge(question)\n",
    "print(\"Generated Knowledge:\", knowledge)\n",
    "print(\"Enhanced Answer:\", answer)"
   ]
  }
 ],
 "metadata": {
  "kernelspec": {
   "display_name": "oreilly-prompt-eng",
   "language": "python",
   "name": "oreilly-prompt-eng"
  },
  "language_info": {
   "codemirror_mode": {
    "name": "ipython",
    "version": 3
   },
   "file_extension": ".py",
   "mimetype": "text/x-python",
   "name": "python",
   "nbconvert_exporter": "python",
   "pygments_lexer": "ipython3",
   "version": "3.10.14"
  }
 },
 "nbformat": 4,
 "nbformat_minor": 2
}
