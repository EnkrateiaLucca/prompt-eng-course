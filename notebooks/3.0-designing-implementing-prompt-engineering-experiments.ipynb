{
 "cells": [
  {
   "cell_type": "markdown",
   "metadata": {},
   "source": [
    "# Prompt Engineering Template \n",
    "\n",
    "- Define Your Task Clearly\n",
    "\n",
    "- Define the Eval Metric\n",
    "\n",
    "- Generate Candidate Prompts\n",
    "\n",
    "- Experiment\n",
    "\n",
    "- Learning When to Stop Experimenting"
   ]
  },
  {
   "cell_type": "markdown",
   "metadata": {},
   "source": [
    "    "
   ]
  }
 ],
 "metadata": {
  "kernelspec": {
   "display_name": "oreilly-prompt-eng",
   "language": "python",
   "name": "oreilly-prompt-eng"
  },
  "language_info": {
   "name": "python",
   "version": "3.10.14"
  }
 },
 "nbformat": 4,
 "nbformat_minor": 2
}
