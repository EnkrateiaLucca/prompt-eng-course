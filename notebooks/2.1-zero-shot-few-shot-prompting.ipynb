{
 "cells": [
  {
   "cell_type": "markdown",
   "metadata": {},
   "source": [
    "# Zero-Shot Prompting"
   ]
  },
  {
   "cell_type": "code",
   "execution_count": 6,
   "metadata": {},
   "outputs": [
    {
     "data": {
      "text/plain": [
       "'Bonjour, comment vas-tu ?'"
      ]
     },
     "execution_count": 6,
     "metadata": {},
     "output_type": "execute_result"
    }
   ],
   "source": [
    "from openai import OpenAI\n",
    "\n",
    "client = OpenAI()\n",
    "\n",
    "def get_response(prompt_question):\n",
    "    response = client.chat.completions.create(\n",
    "        model=\"gpt-3.5-turbo-0125\",\n",
    "        messages=[{\"role\": \"system\", \"content\": \"You are a helpful research and programming assistant\"},\n",
    "                  {\"role\": \"user\", \"content\": prompt_question}]\n",
    "    )\n",
    "    \n",
    "    return response.choices[0].message.content\n",
    "\n",
    "# Zero-Shot Prompting\n",
    "zero_shot_prompt = \"Translate the following English text to French: 'Hello, how are you?'\"\n",
    "\n",
    "get_response(zero_shot_prompt)"
   ]
  },
  {
   "cell_type": "code",
   "execution_count": 7,
   "metadata": {},
   "outputs": [
    {
     "data": {
      "text/plain": [
       "'The sentence \"I love this product, it\\'s the best!\" is classified as positive, as it expresses strong satisfaction and appreciation for the product.'"
      ]
     },
     "execution_count": 7,
     "metadata": {},
     "output_type": "execute_result"
    }
   ],
   "source": [
    "zero_shot_prompt = \"Classify the following sentence as positive, negative or neutral: 'I love this product, it's the best!'\"\n",
    "\n",
    "get_response(zero_shot_prompt)"
   ]
  },
  {
   "cell_type": "code",
   "execution_count": 8,
   "metadata": {},
   "outputs": [
    {
     "data": {
      "text/plain": [
       "'positive'"
      ]
     },
     "execution_count": 8,
     "metadata": {},
     "output_type": "execute_result"
    }
   ],
   "source": [
    "get_response(\"Classify the following sentence as positive, negative or neutral: 'I love this product, it's the best!'. Your output should only be\\\n",
    "             either the word 'positive', 'negative' or 'neutral'.\")"
   ]
  },
  {
   "cell_type": "markdown",
   "metadata": {},
   "source": [
    "# Few-Shot Prompting"
   ]
  },
  {
   "cell_type": "code",
   "execution_count": 9,
   "metadata": {},
   "outputs": [
    {
     "data": {
      "text/plain": [
       "'Essayons quelque chose de nouveau.'"
      ]
     },
     "execution_count": 9,
     "metadata": {},
     "output_type": "execute_result"
    }
   ],
   "source": [
    "# Few-Shot Prompting\n",
    "few_shot_prompt = \"\"\"\n",
    "English: I love learning new things.\n",
    "French: J'aime apprendre de nouvelles choses.\n",
    "English: What is your name?\n",
    "French: Comment vous appelez-vous?\n",
    "English: This is a test.\n",
    "French: C'est un test.\n",
    "English: Let's try something new.\n",
    "French: \"\"\"\n",
    "\n",
    "get_response(few_shot_prompt)"
   ]
  },
  {
   "cell_type": "code",
   "execution_count": 10,
   "metadata": {},
   "outputs": [
    {
     "data": {
      "text/plain": [
       "'positive'"
      ]
     },
     "execution_count": 10,
     "metadata": {},
     "output_type": "execute_result"
    }
   ],
   "source": [
    "few_shot_prompt = \"\"\"\n",
    "\"Classify the following sentence as positive, negative or neutral. Your output should only be\\\n",
    "either the word 'positive', 'negative' or 'neutral'.\n",
    "For example:\n",
    "'I love this product, it's the best!' -> positive\n",
    "'I walked on the beach' -> neutral\n",
    "'I don't like walking on the beach' -> negative\n",
    "'I love eating ice cream' ->\n",
    "\"\n",
    "\"\"\"\n",
    "get_response(few_shot_prompt)"
   ]
  },
  {
   "cell_type": "code",
   "execution_count": null,
   "metadata": {},
   "outputs": [],
   "source": []
  },
  {
   "cell_type": "code",
   "execution_count": null,
   "metadata": {},
   "outputs": [],
   "source": []
  }
 ],
 "metadata": {
  "kernelspec": {
   "display_name": "oreilly-prompt-eng",
   "language": "python",
   "name": "oreilly-prompt-eng"
  },
  "language_info": {
   "codemirror_mode": {
    "name": "ipython",
    "version": 3
   },
   "file_extension": ".py",
   "mimetype": "text/x-python",
   "name": "python",
   "nbconvert_exporter": "python",
   "pygments_lexer": "ipython3",
   "version": "3.10.14"
  }
 },
 "nbformat": 4,
 "nbformat_minor": 2
}
